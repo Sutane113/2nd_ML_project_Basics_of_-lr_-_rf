{
  "cells": [
    {
      "cell_type": "markdown",
      "metadata": {
        "id": "view-in-github",
        "colab_type": "text"
      },
      "source": [
        "<a href=\"https://colab.research.google.com/github/Sutane113/2nd_ML_project_Basics_of_-lr_-_rf/blob/main/My_first_notebook(organised).ipynb\" target=\"_parent\"><img src=\"https://colab.research.google.com/assets/colab-badge.svg\" alt=\"Open In Colab\"/></a>"
      ]
    },
    {
      "cell_type": "markdown",
      "source": [
        "# Import libraries\n",
        "\n",
        "Here,we ***import*** the necessary ***libraries*** used in this notebook.\n",
        "\n",
        "Procedures:\n",
        "\n",
        " 1.   List item\n",
        " 2.   List item\n",
        "\n",
        "\n",
        "\n",
        " Step:\n",
        "\n",
        " *   List item\n",
        " *   List item\n",
        "\n",
        "\n"
      ],
      "metadata": {
        "id": "zIStL6_HGbEq"
      }
    },
    {
      "cell_type": "code",
      "source": [
        "import pandas as pd\n",
        "import seaborn as sns\n",
        "import numpy as np\n",
        "from sklearn import svm\n",
        "import matplotlib as plt"
      ],
      "metadata": {
        "id": "we_el0MbFcvI"
      },
      "execution_count": null,
      "outputs": []
    },
    {
      "cell_type": "code",
      "source": [
        "!pip install py3dmol"
      ],
      "metadata": {
        "colab": {
          "base_uri": "https://localhost:8080/"
        },
        "id": "emofH2SDIKo1",
        "outputId": "9e8ed944-2552-483e-8628-f9c012df5f56"
      },
      "execution_count": null,
      "outputs": [
        {
          "output_type": "stream",
          "name": "stdout",
          "text": [
            "Collecting py3dmol\n",
            "  Downloading py3dmol-2.5.2-py2.py3-none-any.whl.metadata (2.1 kB)\n",
            "Downloading py3dmol-2.5.2-py2.py3-none-any.whl (7.2 kB)\n",
            "Installing collected packages: py3dmol\n",
            "Successfully installed py3dmol-2.5.2\n"
          ]
        }
      ]
    },
    {
      "cell_type": "code",
      "source": [
        "import py3dmol"
      ],
      "metadata": {
        "colab": {
          "base_uri": "https://localhost:8080/",
          "height": 314
        },
        "id": "ZAC23H8TIczH",
        "outputId": "97a98653-8219-4f53-c3ed-10a3aaa36f0f"
      },
      "execution_count": null,
      "outputs": [
        {
          "output_type": "error",
          "ename": "ModuleNotFoundError",
          "evalue": "No module named 'py3dmol'",
          "traceback": [
            "\u001b[0;31m---------------------------------------------------------------------------\u001b[0m",
            "\u001b[0;31mModuleNotFoundError\u001b[0m                       Traceback (most recent call last)",
            "\u001b[0;32m/tmp/ipython-input-2543045783.py\u001b[0m in \u001b[0;36m<cell line: 0>\u001b[0;34m()\u001b[0m\n\u001b[0;32m----> 1\u001b[0;31m \u001b[0;32mimport\u001b[0m \u001b[0mpy3dmol\u001b[0m\u001b[0;34m\u001b[0m\u001b[0;34m\u001b[0m\u001b[0m\n\u001b[0m",
            "\u001b[0;31mModuleNotFoundError\u001b[0m: No module named 'py3dmol'",
            "",
            "\u001b[0;31m---------------------------------------------------------------------------\u001b[0;32m\nNOTE: If your import is failing due to a missing package, you can\nmanually install dependencies using either !pip or !apt.\n\nTo view examples of installing some common dependencies, click the\n\"Open Examples\" button below.\n\u001b[0;31m---------------------------------------------------------------------------\u001b[0m\n"
          ],
          "errorDetails": {
            "actions": [
              {
                "action": "open_url",
                "actionText": "Open Examples",
                "url": "/notebooks/snippets/importing_libraries.ipynb"
              }
            ]
          }
        }
      ]
    },
    {
      "cell_type": "markdown",
      "source": [
        "Example text goes here.Blah blah blah."
      ],
      "metadata": {
        "id": "oCPrDFIMGTow"
      }
    },
    {
      "cell_type": "markdown",
      "source": [
        "Heading 1"
      ],
      "metadata": {
        "id": "ovDzd5eMu-xu"
      }
    },
    {
      "cell_type": "markdown",
      "source": [
        "This represents the contents of heading 1."
      ],
      "metadata": {
        "id": "YqR3LrmGvEQq"
      }
    },
    {
      "cell_type": "code",
      "source": [
        "a = 1"
      ],
      "metadata": {
        "id": "mZSg5St7vXre"
      },
      "execution_count": null,
      "outputs": []
    },
    {
      "cell_type": "code",
      "source": [
        "b = \"data\""
      ],
      "metadata": {
        "id": "By0NkEnxvfUH"
      },
      "execution_count": null,
      "outputs": []
    },
    {
      "cell_type": "code",
      "source": [
        "c = [1,2,3,4,5]"
      ],
      "metadata": {
        "id": "tXEiHJNFv4Y2"
      },
      "execution_count": null,
      "outputs": []
    },
    {
      "cell_type": "code",
      "source": [
        "d = ['John','Sally','Joe','Susy','Jack']"
      ],
      "metadata": {
        "id": "GuQ-3jO8v4uC"
      },
      "execution_count": null,
      "outputs": []
    },
    {
      "cell_type": "code",
      "source": [
        "for i,j in zip(c,d):\n",
        "  if i==1:\n",
        "    print(j + ' has ' + str(i) + ' car.')\n",
        "  else:\n",
        "    print(j + ' has '+ str(i) + 'cars.')\n"
      ],
      "metadata": {
        "colab": {
          "base_uri": "https://localhost:8080/"
        },
        "id": "YiFBajiOv5MH",
        "outputId": "5c0d44fd-304a-4e7d-9d6f-cce692e04a95"
      },
      "execution_count": null,
      "outputs": [
        {
          "output_type": "stream",
          "name": "stdout",
          "text": [
            "John has 1 car.\n",
            "Sally has 2cars.\n",
            "Joe has 3cars.\n",
            "Susy has 4cars.\n",
            "Jack has 5cars.\n"
          ]
        }
      ]
    },
    {
      "cell_type": "markdown",
      "source": [
        "##Heading 1.1\n",
        "blah blah blah."
      ],
      "metadata": {
        "id": "FSWALpNewwcb"
      }
    },
    {
      "cell_type": "markdown",
      "source": [
        "### Heading 1.2"
      ],
      "metadata": {
        "id": "7FangqWcxQKv"
      }
    },
    {
      "cell_type": "code",
      "source": [
        "var1 = 2"
      ],
      "metadata": {
        "id": "7qnrQnuSwN4O"
      },
      "execution_count": null,
      "outputs": []
    },
    {
      "cell_type": "markdown",
      "source": [
        "###Heading 1.3"
      ],
      "metadata": {
        "id": "pnQwaUNhEvEK"
      }
    },
    {
      "cell_type": "markdown",
      "source": [
        "Heading 1.3.1"
      ],
      "metadata": {
        "id": "iwiS0sK7E9JQ"
      }
    },
    {
      "cell_type": "markdown",
      "source": [
        "####Heading 1.3.1.1"
      ],
      "metadata": {
        "id": "sIwvubeGG3MG"
      }
    },
    {
      "cell_type": "code",
      "source": [],
      "metadata": {
        "id": "t3gBK487G7eg"
      },
      "execution_count": null,
      "outputs": []
    }
  ],
  "metadata": {
    "colab": {
      "toc_visible": true,
      "provenance": [],
      "include_colab_link": true
    },
    "kernelspec": {
      "display_name": "Python 3",
      "name": "python3"
    }
  },
  "nbformat": 4,
  "nbformat_minor": 0
}